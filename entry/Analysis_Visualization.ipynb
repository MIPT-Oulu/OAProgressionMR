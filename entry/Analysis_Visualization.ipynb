{
 "cells": [
  {
   "cell_type": "code",
   "execution_count": null,
   "id": "eb29da41",
   "metadata": {
    "scrolled": true,
    "pycharm": {
     "name": "#%%\n"
    }
   },
   "outputs": [],
   "source": [
    "%reload_ext autoreload\n",
    "%autoreload 2\n",
    "\n",
    "import pickle\n",
    "from pathlib import Path\n",
    "from collections import defaultdict\n",
    "\n",
    "import numpy as np\n",
    "import matplotlib\n",
    "import matplotlib.pyplot as plt\n",
    "import pandas as pd\n",
    "from sklearn.metrics import ConfusionMatrixDisplay\n",
    "\n",
    "from koafusion.various import calc_metrics, calc_metrics_bootstrap"
   ]
  },
  {
   "cell_type": "code",
   "execution_count": null,
   "id": "dce434dc",
   "metadata": {
    "scrolled": true,
    "pycharm": {
     "name": "#%%\n"
    }
   },
   "outputs": [],
   "source": [
    "DIR_PROJ = #ACT:SET_PATH\n",
    "DIR_RESULTS = Path(DIR_PROJ, \"results/\")\n",
    "DIR_OUT = Path(DIR_RESULTS, \"temporary/\")"
   ]
  },
  {
   "cell_type": "code",
   "execution_count": null,
   "id": "04497e64",
   "metadata": {
    "scrolled": true,
    "pycharm": {
     "name": "#%%\n"
    }
   },
   "outputs": [],
   "source": [
    "DIR_META = Path(\"ACT:SET_PATH/meta_agg.csv\")\n",
    "\n",
    "df_meta = pd.read_csv(DIR_META, header=[0, 1])\n",
    "df_meta = df_meta.loc[:, \"-\"]\n",
    "\n",
    "display(df_meta.head())\n",
    "display(df_meta.columns)"
   ]
  },
  {
   "cell_type": "code",
   "execution_count": null,
   "id": "71d3d556",
   "metadata": {
    "scrolled": true,
    "pycharm": {
     "name": "#%%\n"
    }
   },
   "outputs": [],
   "source": [
    "def read_cache(fn, presel=None):\n",
    "    with open(fn, \"rb\") as f:\n",
    "        c = pickle.load(f)\n",
    "    if presel is not None:\n",
    "        c = c[presel]\n",
    "    if \"predict_proba\" in c:\n",
    "        c[\"predict_proba\"] = [e for e in c[\"predict_proba\"]]\n",
    "    df = pd.DataFrame.from_dict(c)\n",
    "    #     {\"AGE\": float, \"P02SEX\": str, 'P01BMI': float, 'XRKL': int, 'exam_knee_id': str,\n",
    "    #      'predict_proba': np.array, 'predict': np.array, 'target': np.array}\n",
    "    return df"
   ]
  },
  {
   "cell_type": "code",
   "execution_count": null,
   "id": "40123919",
   "metadata": {
    "scrolled": true,
    "pycharm": {
     "name": "#%%\n"
    }
   },
   "outputs": [],
   "source": [
    "# Experiment list\n",
    "\n",
    "PATHS_EXPERIMS = {\n",
    "    # (input, target, model_descr)\n",
    "    (\"DESS_sag\", \"tiulpin2019_prog\", \"2D+FC_p+\"): \\\n",
    "         Path(DIR_RESULTS, \"EXPERIMENT_ID\", \"logs_eval\", \"eval_raw_ens.pkl\"),\n",
    "    (\"DESS_sag\", \"tiulpin2019_prog\", \"2D+FC_p-\"): \\\n",
    "         Path(DIR_RESULTS, \"EXPERIMENT_ID\", \"logs_eval\", \"eval_raw_ens.pkl\"),\n",
    "    \n",
    "    (\"DESS_sag\", \"tiulpin2019_prog\", \"2D+LSTM_p+\"): \\\n",
    "         Path(DIR_RESULTS, \"EXPERIMENT_ID\", \"logs_eval\", \"eval_raw_ens.pkl\"),\n",
    "    (\"DESS_sag\", \"tiulpin2019_prog\", \"2D+LSTM_p-\"): \\\n",
    "         Path(DIR_RESULTS, \"EXPERIMENT_ID\", \"logs_eval\", \"eval_raw_ens.pkl\"),\n",
    "    \n",
    "    (\"DESS_sag\", \"tiulpin2019_prog\", \"2D+TRF_p-(sag)\"): \\\n",
    "         Path(DIR_RESULTS, \"EXPERIMENT_ID\", \"logs_eval\", \"eval_raw_ens.pkl\"),\n",
    "    (\"DESS_sag\", \"tiulpin2019_prog\", \"2D+TRF_p+(sag)\"): \\\n",
    "         Path(DIR_RESULTS, \"EXPERIMENT_ID\", \"logs_eval\", \"eval_raw_ens.pkl\"),\n",
    "    (\"DESS_cor\", \"tiulpin2019_prog\", \"2D+TRF_p+(cor)\"): \\\n",
    "         Path(DIR_RESULTS, \"EXPERIMENT_ID\", \"logs_eval\", \"eval_raw_ens.pkl\"),\n",
    "    (\"DESS_ax\", \"tiulpin2019_prog\", \"2D+TRF_p+(ax)\"): \\\n",
    "         Path(DIR_RESULTS, \"EXPERIMENT_ID\", \"logs_eval\", \"eval_raw_ens.pkl\"),\n",
    "\n",
    "    (\"DESS_cor\", \"tiulpin2019_prog\", \"2D+TRF_p+(cor)_adj\"): \\\n",
    "         Path(DIR_RESULTS, \"EXPERIMENT_ID\", \"logs_eval\", \"eval_raw_ens.pkl\"),\n",
    "    (\"DESS_ax\", \"tiulpin2019_prog\", \"2D+TRF_p+(ax)_adj\"): \\\n",
    "         Path(DIR_RESULTS, \"EXPERIMENT_ID\", \"logs_eval\", \"eval_raw_ens.pkl\"),\n",
    "\n",
    "    (\"DESS_multi\", \"tiulpin2019_prog\", \"multi_2D+TRF_s-_p+\"): \\\n",
    "         Path(DIR_RESULTS, \"EXPERIMENT_ID\", \"logs_eval\", \"eval_raw_ens.pkl\"),\n",
    "    (\"DESS_multi\", \"tiulpin2019_prog\", \"multi_2D+TRF_s+_p+\"): \\\n",
    "         Path(DIR_RESULTS, \"EXPERIMENT_ID\", \"logs_eval\", \"eval_raw_ens.pkl\"),\n",
    "    (\"DESS_multi\", \"tiulpin2019_prog\", \"multi_2D+TRF_s-_p-\"): \\\n",
    "         Path(DIR_RESULTS, \"EXPERIMENT_ID\", \"logs_eval\", \"eval_raw_ens.pkl\"),\n",
    "    (\"DESS_multi\", \"tiulpin2019_prog\", \"multi_2D+TRF_s+_p-\"): \\\n",
    "         Path(DIR_RESULTS, \"EXPERIMENT_ID\", \"logs_eval\", \"eval_raw_ens.pkl\"),\n",
    "\n",
    "    (\"DESS\", \"tiulpin2019_prog\", \"(2+1)D\"): \\\n",
    "         Path(DIR_RESULTS, \"EXPERIMENT_ID\", \"logs_eval\", \"eval_raw_ens.pkl\"),\n",
    "    (\"DESS\", \"tiulpin2019_prog\", \"3D_ResNetXt50_l1s=2\"): \\\n",
    "         Path(DIR_RESULTS, \"EXPERIMENT_ID\", \"logs_eval\", \"eval_raw_ens.pkl\"),\n",
    "    (\"DESS\", \"tiulpin2019_prog\", \"3D_ResNetXt50_l1s=1\"): \\\n",
    "         Path(DIR_RESULTS, \"EXPERIMENT_ID\", \"logs_eval\", \"eval_raw_ens.pkl\"),\n",
    "    (\"DESS\", \"tiulpin2019_prog\", \"3D_ShuffleNet\"): \\\n",
    "         Path(DIR_RESULTS, \"EXPERIMENT_ID\", \"logs_eval\", \"eval_raw_ens.pkl\"),\n",
    "    \n",
    "    (\"XR\", \"tiulpin2019_prog\", \"XR\"): \\\n",
    "         Path(DIR_RESULTS, \"EXPERIMENT_ID\", \"logs_eval\", \"eval_raw_ens.pkl\"),\n",
    "}"
   ]
  },
  {
   "cell_type": "code",
   "execution_count": null,
   "id": "a07d2279",
   "metadata": {
    "scrolled": true,
    "pycharm": {
     "name": "#%%\n"
    }
   },
   "outputs": [],
   "source": [
    "# Read from cached\n",
    "\n",
    "expers_data = {}\n",
    "\n",
    "for k, p in PATHS_EXPERIMS.items():\n",
    "    if \"age,sex,BMI\" in k[0] or \"clin\" in k[0]:\n",
    "        # Take only LR model\n",
    "        t = read_cache(p, presel=\"LR\")\n",
    "        expers_data[k] = t\n",
    "    else:\n",
    "        expers_data[k] = read_cache(p)"
   ]
  },
  {
   "cell_type": "code",
   "execution_count": null,
   "id": "13c0ee3f",
   "metadata": {
    "scrolled": true,
    "pycharm": {
     "name": "#%%\n"
    }
   },
   "outputs": [],
   "source": [
    "# Calculate metrics\n",
    "\n",
    "expers_mx_all = {}\n",
    "\n",
    "for code_exp, v in expers_data.items():\n",
    "    print(code_exp)\n",
    "\n",
    "    k = code_exp\n",
    "    target = code_exp[1]\n",
    "    expers_mx_all[k] = dict()\n",
    "    \n",
    "    prog_target = np.asarray(list(map(np.asarray, v[\"target\"].tolist()))).ravel()\n",
    "    prog_pred_proba = np.asarray(list(map(np.asarray, v[\"predict_proba\"].tolist())))\n",
    "    \n",
    "    # 1 shot metrics\n",
    "    t = calc_metrics(prog_target=prog_target,\n",
    "                     prog_pred_proba=prog_pred_proba,\n",
    "                     with_curves=True)\n",
    "    expers_mx_all[k].update(t)\n",
    "\n",
    "    # Bootstrapped metrics\n",
    "    t = calc_metrics_bootstrap(prog_target=prog_target,\n",
    "                               prog_pred_proba=prog_pred_proba)\n",
    "    expers_mx_all[k].update(t)\n",
    "\n",
    "t = pd.DataFrame.from_dict(expers_mx_all, orient=\"index\")\n",
    "display(t)\n",
    "df_mx_all = t"
   ]
  },
  {
   "cell_type": "code",
   "execution_count": null,
   "id": "3c85dfee",
   "metadata": {
    "pycharm": {
     "name": "#%%\n"
    }
   },
   "outputs": [],
   "source": [
    "model_to_label = {\n",
    "    \"2D+FC_p+\": \"2D + FC\",\n",
    "    \"2D+LSTM_p+\": \"2D + LSTM\",\n",
    "    \"2D+TRF_p+(sag)\": r\"2D $\\mathit{(sag)}$ + TRF\",\n",
    "    \"multi_2D+TRF_s+_p+\": r\"2D$^{sh}$ + TRF\",\n",
    "    \"3D_ShuffleNet\": \"3D ShuffleNet\",\n",
    "    \"XR\": \"XR\",\n",
    "}\n",
    "\n",
    "n = 10\n",
    "colors = plt.cm.Set1(np.linspace(0, 1, n))\n",
    "\n",
    "model_to_color = {\n",
    "#     \"2D+FC_p+\": colors[0],\n",
    "#     \"2D+LSTM_p+\": colors[1],\n",
    "#     \"2D+TRF_p+(sag)\": colors[2],\n",
    "#     \"multi_2D+TRF_s+_p+\": colors[3],\n",
    "#     \"3D_ShuffleNet\": colors[4],\n",
    "    \n",
    "#     \"2D+TRF_p+(sag)\": colors[0],\n",
    "#     \"multi_2D+TRF_s+_p+\": colors[1],\n",
    "#     \"3D_ShuffleNet\": colors[2],\n",
    "    \n",
    "    \"2D+TRF_p+(sag)\": colors[0],\n",
    "    \"3D_ShuffleNet\": colors[1],\n",
    "    \"XR\": colors[4],\n",
    "}\n",
    "\n",
    "data_code_to_vars = {\n",
    "    \"DESS\": \"DESS\",\n",
    "    \"DESS_sag\": \"DESS_sag\",\n",
    "    \"DESS_cor\": \"DESS_cor\",\n",
    "    \"DESS_ax\": \"DESS_ax\",\n",
    "    \"DESS_multi\": \"DESS_multi\",\n",
    "    \"XR\": \"XR\",\n",
    "}"
   ]
  },
  {
   "cell_type": "code",
   "execution_count": null,
   "id": "aa8a0a46",
   "metadata": {
    "scrolled": true,
    "pycharm": {
     "name": "#%%\n"
    }
   },
   "outputs": [],
   "source": [
    "# Figures. ROC and Precision-Recall curves\n",
    "\n",
    "T_EXPERS_SEL = [\n",
    "    (\"DESS_sag\", \"tiulpin2019_prog\", \"2D+FC_p+\"),\n",
    "    (\"DESS_sag\", \"tiulpin2019_prog\", \"2D+FC_p-\"),\n",
    "    \n",
    "    (\"DESS_sag\", \"tiulpin2019_prog\", \"2D+LSTM_p+\"),\n",
    "    (\"DESS_sag\", \"tiulpin2019_prog\", \"2D+LSTM_p-\"),\n",
    "    \n",
    "    (\"DESS_sag\", \"tiulpin2019_prog\", \"2D+TRF_p-(sag)\"),\n",
    "    (\"DESS_sag\", \"tiulpin2019_prog\", \"2D+TRF_p+(sag)\"),\n",
    "    (\"DESS_cor\", \"tiulpin2019_prog\", \"2D+TRF_p+(cor)\"),\n",
    "    (\"DESS_ax\", \"tiulpin2019_prog\", \"2D+TRF_p+(ax)\"),\n",
    "    (\"DESS_cor\", \"tiulpin2019_prog\", \"2D+TRF_p+(cor)_adj\"),\n",
    "    (\"DESS_ax\", \"tiulpin2019_prog\", \"2D+TRF_p+(ax)_adj\"),\n",
    "\n",
    "    (\"DESS_multi\", \"tiulpin2019_prog\", \"multi_2D+TRF_s-_p+\"),\n",
    "    (\"DESS_multi\", \"tiulpin2019_prog\", \"multi_2D+TRF_s+_p+\"),\n",
    "    (\"DESS_multi\", \"tiulpin2019_prog\", \"multi_2D+TRF_s-_p-\"),\n",
    "    (\"DESS_multi\", \"tiulpin2019_prog\", \"multi_2D+TRF_s+_p-\"),\n",
    "\n",
    "    (\"DESS\", \"tiulpin2019_prog\", \"(2+1)D\"),\n",
    "    (\"DESS\", \"tiulpin2019_prog\", \"3D_ResNetXt50_l1s=2\"),\n",
    "    (\"DESS\", \"tiulpin2019_prog\", \"3D_ResNetXt50_l1s=1\"),\n",
    "    (\"DESS\", \"tiulpin2019_prog\", \"3D_ShuffleNet\"),\n",
    "]\n",
    "\n",
    "matplotlib.rcParams.update({'font.size': 8})\n",
    "\n",
    "summary = defaultdict(list)\n",
    "\n",
    "target = = \"tiulpin2019_prog\"\n",
    "\n",
    "fig, axes = plt.subplots(ncols=2, figsize=(4.2, 1.9))\n",
    "lw = 1.2\n",
    "\n",
    "t_metrics = {k: v for k, v in expers_mx_all.items()}\n",
    "# Select by filter list\n",
    "t_metrics = {k: v for k, v in t_metrics.items() if k in T_EXPERS_SEL}\n",
    "\n",
    "for idx, k in enumerate(t_metrics):\n",
    "    v = t_metrics[k]\n",
    "\n",
    "    t_color = model_to_color[k[2]]\n",
    "    t_label = model_to_label[k[2]]\n",
    "    axes[0].plot(*v[\"roc_curve\"], color=t_color, lw=lw, label=t_label)\n",
    "\n",
    "    t_label = model_to_label[k[2]]\n",
    "    axes[1].plot(*v[\"pr_curve\"][::-1], color=t_color, lw=lw, label=t_label)\n",
    "\n",
    "    if idx == 0:\n",
    "        axes[0].plot([0, 1], [0, 1], color='lightgray', lw=lw, linestyle='--')\n",
    "        t = v[\"prevalence\"]\n",
    "        axes[1].plot([0, 1], [t, t], color='lightgray', lw=lw, linestyle='--')\n",
    "\n",
    "    summary[\"data\"].append(k[0])\n",
    "    summary[\"model\"].append(k[2])\n",
    "    summary[\"roc_auc\"].append(\n",
    "        f\"{v['roc_auc'][0]:0.2f} ({v['roc_auc'][1]:0.2f})\")\n",
    "    summary[\"avg_precision\"].append(\n",
    "        f\"{v['avg_precision'][0]:0.2f} ({v['avg_precision'][1]:0.2f})\")\n",
    "    summary[\"prevalence\"].append(v[\"prevalence\"])\n",
    "    print(summary)\n",
    "\n",
    "axes[0].set_xlim([-0.01, 1.01]); axes[0].set_ylim([-0.01, 1.01])\n",
    "axes[1].set_xlim([-0.01, 1.01]); axes[1].set_ylim([-0.01, 1.01])\n",
    "\n",
    "axes[0].set_xlabel('False Positive Rate')\n",
    "axes[0].set_ylabel('True Positive Rate')\n",
    "axes[0].set_title('ROC curve')\n",
    "axes[0].legend(loc=\"lower right\")\n",
    "\n",
    "axes[1].set_xlabel('Recall')\n",
    "axes[1].set_ylabel('Precision')\n",
    "axes[1].set_title('Precision-Recall curve')\n",
    "axes[1].legend(loc=\"lower right\")\n",
    "\n",
    "path_out = Path(DIR_OUT, \"roc_pr.png\")\n",
    "\n",
    "plt.tight_layout()\n",
    "plt.savefig(path_out, dpi=300)\n",
    "# plt.show()\n",
    "plt.close()"
   ]
  },
  {
   "cell_type": "code",
   "execution_count": null,
   "id": "d7dfbf37",
   "metadata": {
    "pycharm": {
     "name": "#%%\n"
    }
   },
   "outputs": [],
   "source": [
    "# Table. Metrics summary\n",
    "\n",
    "t = pd.DataFrame.from_dict(summary)\n",
    "\n",
    "for m in (\"prevalence\", \"avg_precision\", \"roc_auc\"):\n",
    "    e = pd.pivot(\n",
    "        t, index=[\"data\", \"model\"],\n",
    "        columns=[\"target\",],\n",
    "        values=[m,],\n",
    "    )\n",
    "    display(e)"
   ]
  },
  {
   "cell_type": "code",
   "execution_count": null,
   "id": "d83d2655",
   "metadata": {
    "pycharm": {
     "name": "#%%\n"
    }
   },
   "outputs": [],
   "source": [
    "# Plot confusion matrix\n",
    "\n",
    "matplotlib.rcParams.update({'font.size': 8})\n",
    "\n",
    "summary = defaultdict(list)\n",
    "\n",
    "target = \"tiulpin2019_prog\"\n",
    "\n",
    "t_metrics = {k: v for k, v in expers_mx_all.items()}\n",
    "# Select by filter list\n",
    "t_metrics = {k: v for k, v in t_metrics.items() if k in T_EXPERS_SEL}\n",
    "\n",
    "for idx, (k, v) in enumerate(t_metrics.items()):\n",
    "    print(f\"{idx}: {repr(k)}\")\n",
    "    fig, axes = plt.subplots(figsize=(2.4, 2.4))\n",
    "\n",
    "    print(v[\"cm\"])\n",
    "\n",
    "    cm_disp = ConfusionMatrixDisplay(\n",
    "        v[\"cm_norm\"], display_labels=[\"no\\nprog.\", \"slow\\n(72-96m)\", \"fast\\n(<72m)\"])\n",
    "\n",
    "    cm_disp.plot(include_values=True,\n",
    "                 cmap=\"OrRd\",\n",
    "                 xticks_rotation=\"horizontal\",\n",
    "                 values_format=\".2f\",\n",
    "                 ax=axes,\n",
    "                 colorbar=False)\n",
    "\n",
    "    summary[\"target\"].append(target)\n",
    "    summary[\"data\"].append(data_code_to_vars[k[0]])\n",
    "    summary[\"model\"].append(k[2])\n",
    "    summary[\"cm\"].append(v[\"cm\"])\n",
    "    summary[\"cm_norm\"].append(v[\"cm_norm\"])\n",
    "\n",
    "    plt.tight_layout()\n",
    "\n",
    "    path_out = Path(DIR_OUT, f\"cm_norm__{idx}.pdf\")\n",
    "    plt.savefig(path_out, dpi=300)\n",
    "    plt.close()"
   ]
  }
 ],
 "metadata": {
  "kernelspec": {
   "display_name": "Python 3 (ipykernel)",
   "language": "python",
   "name": "python3"
  },
  "language_info": {
   "codemirror_mode": {
    "name": "ipython",
    "version": 3
   },
   "file_extension": ".py",
   "mimetype": "text/x-python",
   "name": "python",
   "nbconvert_exporter": "python",
   "pygments_lexer": "ipython3",
   "version": "3.8.8"
  }
 },
 "nbformat": 4,
 "nbformat_minor": 5
}